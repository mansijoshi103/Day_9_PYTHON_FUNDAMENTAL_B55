{
 "cells": [
  {
   "cell_type": "code",
   "execution_count": null,
   "id": "7ba0031f",
   "metadata": {},
   "outputs": [],
   "source": [
    "Introduction to tuple datatype:\n",
    "    "
   ]
  },
  {
   "cell_type": "code",
   "execution_count": null,
   "id": "f17a6d86",
   "metadata": {},
   "outputs": [],
   "source": [
    "def:- an immutable list is called as a tuple\n",
    "\n",
    "classification: it classifies as immutable datatype.\n",
    "    \n",
    "how to define tuple.?()"
   ]
  },
  {
   "cell_type": "code",
   "execution_count": 1,
   "id": "a0e544ce",
   "metadata": {},
   "outputs": [
    {
     "name": "stdout",
     "output_type": "stream",
     "text": [
      "('mansi', 'pransi', 'priya', 'sayali')\n"
     ]
    }
   ],
   "source": [
    "student=(\"mansi\",\"pransi\",\"priya\",\"sayali\")\n",
    "print(student)"
   ]
  },
  {
   "cell_type": "code",
   "execution_count": 3,
   "id": "36b8cc73",
   "metadata": {},
   "outputs": [
    {
     "name": "stdout",
     "output_type": "stream",
     "text": [
      "sayali\n"
     ]
    }
   ],
   "source": [
    "print(student[3])"
   ]
  },
  {
   "cell_type": "code",
   "execution_count": 4,
   "id": "fb6f21b9",
   "metadata": {},
   "outputs": [
    {
     "data": {
      "text/plain": [
       "tuple"
      ]
     },
     "execution_count": 4,
     "metadata": {},
     "output_type": "execute_result"
    }
   ],
   "source": [
    "type(student)"
   ]
  },
  {
   "cell_type": "code",
   "execution_count": 5,
   "id": "00d68330",
   "metadata": {},
   "outputs": [],
   "source": [
    "#req:change in name sayali to sampada"
   ]
  },
  {
   "cell_type": "code",
   "execution_count": 6,
   "id": "b816073e",
   "metadata": {},
   "outputs": [
    {
     "ename": "TypeError",
     "evalue": "'tuple' object does not support item assignment",
     "output_type": "error",
     "traceback": [
      "\u001b[1;31m---------------------------------------------------------------------------\u001b[0m",
      "\u001b[1;31mTypeError\u001b[0m                                 Traceback (most recent call last)",
      "\u001b[1;32m~\\AppData\\Local\\Temp/ipykernel_13996/630227749.py\u001b[0m in \u001b[0;36m<module>\u001b[1;34m\u001b[0m\n\u001b[1;32m----> 1\u001b[1;33m \u001b[0mstudent\u001b[0m\u001b[1;33m[\u001b[0m\u001b[1;36m3\u001b[0m\u001b[1;33m]\u001b[0m\u001b[1;33m=\u001b[0m\u001b[1;34m\"sampada\"\u001b[0m\u001b[1;33m\u001b[0m\u001b[1;33m\u001b[0m\u001b[0m\n\u001b[0m",
      "\u001b[1;31mTypeError\u001b[0m: 'tuple' object does not support item assignment"
     ]
    }
   ],
   "source": [
    "student[3]=\"sampada\" "
   ]
  },
  {
   "cell_type": "code",
   "execution_count": 8,
   "id": "59778a91",
   "metadata": {},
   "outputs": [],
   "source": [
    "dimensions=(200,55)"
   ]
  },
  {
   "cell_type": "code",
   "execution_count": null,
   "id": "961d6884",
   "metadata": {},
   "outputs": [],
   "source": []
  },
  {
   "cell_type": "code",
   "execution_count": 10,
   "id": "6e638997",
   "metadata": {},
   "outputs": [
    {
     "name": "stdout",
     "output_type": "stream",
     "text": [
      "(200, 55)\n"
     ]
    }
   ],
   "source": [
    "print(dimensions)"
   ]
  },
  {
   "cell_type": "code",
   "execution_count": 11,
   "id": "87e7d640",
   "metadata": {},
   "outputs": [
    {
     "name": "stdout",
     "output_type": "stream",
     "text": [
      "('mansi', 'pransi', 'priya', 'sayali')\n"
     ]
    }
   ],
   "source": [
    "print(student)"
   ]
  },
  {
   "cell_type": "code",
   "execution_count": 12,
   "id": "d490240e",
   "metadata": {},
   "outputs": [
    {
     "name": "stdout",
     "output_type": "stream",
     "text": [
      "mansi\n",
      "pransi\n",
      "priya\n",
      "sayali\n"
     ]
    }
   ],
   "source": [
    "for c in student:\n",
    "    print(c)"
   ]
  },
  {
   "cell_type": "code",
   "execution_count": null,
   "id": "d85af4e6",
   "metadata": {},
   "outputs": [],
   "source": []
  },
  {
   "cell_type": "code",
   "execution_count": null,
   "id": "cfac2af1",
   "metadata": {},
   "outputs": [],
   "source": [
    "# Indroduction to the dictonary data type\n",
    "\n",
    "def:- a dictionary is combination of key-value pair\n",
    "    \n",
    "classification:- it is classified as mutable datatype\n",
    "    \n",
    "how to define the dictionary ..?{}\n"
   ]
  },
  {
   "cell_type": "code",
   "execution_count": 52,
   "id": "9e33c398",
   "metadata": {},
   "outputs": [
    {
     "name": "stdout",
     "output_type": "stream",
     "text": [
      "{'mother': 'pratibha', 'father': 'devichand', 'brother': 'mandar', 'sister': 'kriya'}\n"
     ]
    }
   ],
   "source": [
    "family={\"mother\":\"pratibha\",\"father\":\"devichand\",\"brother\":\"mandar\",\"sister\":\"kriya\"}\n",
    "print(family)"
   ]
  },
  {
   "cell_type": "code",
   "execution_count": 53,
   "id": "864252df",
   "metadata": {},
   "outputs": [],
   "source": [
    "#how to accesss the values form dictionaries\n"
   ]
  },
  {
   "cell_type": "code",
   "execution_count": 54,
   "id": "7b41b8d4",
   "metadata": {},
   "outputs": [
    {
     "name": "stdout",
     "output_type": "stream",
     "text": [
      "pratibha\n"
     ]
    }
   ],
   "source": [
    "print(family[\"mother\"])"
   ]
  },
  {
   "cell_type": "code",
   "execution_count": 55,
   "id": "c0e08ead",
   "metadata": {},
   "outputs": [
    {
     "name": "stdout",
     "output_type": "stream",
     "text": [
      "mandar\n"
     ]
    }
   ],
   "source": [
    "print(family[\"brother\"])"
   ]
  },
  {
   "cell_type": "code",
   "execution_count": 56,
   "id": "5966e723",
   "metadata": {},
   "outputs": [],
   "source": [
    "#how to add new key value pair"
   ]
  },
  {
   "cell_type": "code",
   "execution_count": 57,
   "id": "ebeb0053",
   "metadata": {},
   "outputs": [
    {
     "name": "stdout",
     "output_type": "stream",
     "text": [
      "{'mother': 'pratibha', 'father': 'devichand', 'brother': 'mandar', 'sister': 'kriya'}\n"
     ]
    }
   ],
   "source": [
    "print(family)"
   ]
  },
  {
   "cell_type": "code",
   "execution_count": 59,
   "id": "5d85157f",
   "metadata": {},
   "outputs": [
    {
     "name": "stdout",
     "output_type": "stream",
     "text": [
      "{'mother': 'pratibha', 'father': 'devichand', 'brother': 'mandar', 'sister': 'kriya', 'friend': 'janvi'}\n"
     ]
    }
   ],
   "source": [
    "family[\"friend\"]=\"janvi\"\n",
    "print(family)"
   ]
  },
  {
   "cell_type": "code",
   "execution_count": null,
   "id": "10392363",
   "metadata": {},
   "outputs": [],
   "source": []
  },
  {
   "cell_type": "code",
   "execution_count": null,
   "id": "4aca69d7",
   "metadata": {},
   "outputs": [],
   "source": [
    "#how to update value"
   ]
  },
  {
   "cell_type": "code",
   "execution_count": 62,
   "id": "289f5962",
   "metadata": {},
   "outputs": [
    {
     "name": "stdout",
     "output_type": "stream",
     "text": [
      "{'mother': 'pratibha', 'father': 'devichand', 'brother': 'mandar', 'sister': 'diksha', 'friend': 'janvi'}\n"
     ]
    }
   ],
   "source": [
    "family[\"sister\"]= \"diksha\"\n",
    "print(family)"
   ]
  },
  {
   "cell_type": "code",
   "execution_count": null,
   "id": "1b99969f",
   "metadata": {},
   "outputs": [],
   "source": []
  },
  {
   "cell_type": "code",
   "execution_count": null,
   "id": "bcdcd513",
   "metadata": {},
   "outputs": [],
   "source": []
  },
  {
   "cell_type": "code",
   "execution_count": 33,
   "id": "6e31f15f",
   "metadata": {},
   "outputs": [],
   "source": [
    "#how to delete the key value pair\n"
   ]
  },
  {
   "cell_type": "code",
   "execution_count": 63,
   "id": "00d78e16",
   "metadata": {},
   "outputs": [
    {
     "ename": "NameError",
     "evalue": "name 'janvi' is not defined",
     "output_type": "error",
     "traceback": [
      "\u001b[1;31m---------------------------------------------------------------------------\u001b[0m",
      "\u001b[1;31mNameError\u001b[0m                                 Traceback (most recent call last)",
      "\u001b[1;32m~\\AppData\\Local\\Temp/ipykernel_13996/86854520.py\u001b[0m in \u001b[0;36m<module>\u001b[1;34m\u001b[0m\n\u001b[1;32m----> 1\u001b[1;33m \u001b[1;32mdel\u001b[0m \u001b[0mfamily\u001b[0m\u001b[1;33m[\u001b[0m\u001b[0mjanvi\u001b[0m\u001b[1;33m]\u001b[0m\u001b[1;33m\u001b[0m\u001b[1;33m\u001b[0m\u001b[0m\n\u001b[0m\u001b[0;32m      2\u001b[0m \u001b[0mprint\u001b[0m\u001b[1;33m(\u001b[0m\u001b[0mfamily\u001b[0m\u001b[1;33m)\u001b[0m\u001b[1;33m\u001b[0m\u001b[1;33m\u001b[0m\u001b[0m\n",
      "\u001b[1;31mNameError\u001b[0m: name 'janvi' is not defined"
     ]
    }
   ],
   "source": [
    "del family[janvi]\n",
    "print(family)\n"
   ]
  },
  {
   "cell_type": "code",
   "execution_count": 64,
   "id": "990bed62",
   "metadata": {},
   "outputs": [
    {
     "ename": "KeyError",
     "evalue": "'janvi'",
     "output_type": "error",
     "traceback": [
      "\u001b[1;31m---------------------------------------------------------------------------\u001b[0m",
      "\u001b[1;31mKeyError\u001b[0m                                  Traceback (most recent call last)",
      "\u001b[1;32m~\\AppData\\Local\\Temp/ipykernel_13996/3943859763.py\u001b[0m in \u001b[0;36m<module>\u001b[1;34m\u001b[0m\n\u001b[1;32m----> 1\u001b[1;33m \u001b[0mprint\u001b[0m\u001b[1;33m(\u001b[0m\u001b[0mfamily\u001b[0m\u001b[1;33m[\u001b[0m\u001b[1;34m\"janvi\"\u001b[0m\u001b[1;33m]\u001b[0m\u001b[1;33m)\u001b[0m\u001b[1;33m\u001b[0m\u001b[1;33m\u001b[0m\u001b[0m\n\u001b[0m\u001b[0;32m      2\u001b[0m \u001b[0mprint\u001b[0m\u001b[1;33m(\u001b[0m\u001b[0mfamily\u001b[0m\u001b[1;33m)\u001b[0m\u001b[1;33m\u001b[0m\u001b[1;33m\u001b[0m\u001b[0m\n",
      "\u001b[1;31mKeyError\u001b[0m: 'janvi'"
     ]
    }
   ],
   "source": [
    "print(family[\"janvi\"])\n",
    "print(family)"
   ]
  },
  {
   "cell_type": "code",
   "execution_count": 66,
   "id": "c08ad860",
   "metadata": {},
   "outputs": [
    {
     "ename": "KeyError",
     "evalue": "'friend'",
     "output_type": "error",
     "traceback": [
      "\u001b[1;31m---------------------------------------------------------------------------\u001b[0m",
      "\u001b[1;31mKeyError\u001b[0m                                  Traceback (most recent call last)",
      "\u001b[1;32m~\\AppData\\Local\\Temp/ipykernel_13996/1428314919.py\u001b[0m in \u001b[0;36m<module>\u001b[1;34m\u001b[0m\n\u001b[1;32m----> 1\u001b[1;33m \u001b[1;32mdel\u001b[0m \u001b[0mfamily\u001b[0m\u001b[1;33m[\u001b[0m\u001b[1;34m\"friend\"\u001b[0m\u001b[1;33m]\u001b[0m\u001b[1;33m\u001b[0m\u001b[1;33m\u001b[0m\u001b[0m\n\u001b[0m\u001b[0;32m      2\u001b[0m \u001b[0mprint\u001b[0m\u001b[1;33m(\u001b[0m\u001b[0mfaily\u001b[0m\u001b[1;33m)\u001b[0m\u001b[1;33m\u001b[0m\u001b[1;33m\u001b[0m\u001b[0m\n",
      "\u001b[1;31mKeyError\u001b[0m: 'friend'"
     ]
    }
   ],
   "source": [
    "del family[\"friend\"]\n",
    "print(faily)\n"
   ]
  },
  {
   "cell_type": "code",
   "execution_count": 67,
   "id": "4e01af9a",
   "metadata": {},
   "outputs": [
    {
     "ename": "NameError",
     "evalue": "name 'friend' is not defined",
     "output_type": "error",
     "traceback": [
      "\u001b[1;31m---------------------------------------------------------------------------\u001b[0m",
      "\u001b[1;31mNameError\u001b[0m                                 Traceback (most recent call last)",
      "\u001b[1;32m~\\AppData\\Local\\Temp/ipykernel_13996/2464310185.py\u001b[0m in \u001b[0;36m<module>\u001b[1;34m\u001b[0m\n\u001b[1;32m----> 1\u001b[1;33m \u001b[1;32mdel\u001b[0m \u001b[0mfamily\u001b[0m\u001b[1;33m[\u001b[0m\u001b[0mfriend\u001b[0m\u001b[1;33m]\u001b[0m\u001b[1;33m\u001b[0m\u001b[1;33m\u001b[0m\u001b[0m\n\u001b[0m\u001b[0;32m      2\u001b[0m \u001b[0mprint\u001b[0m\u001b[1;33m(\u001b[0m\u001b[0mfriend\u001b[0m\u001b[1;33m)\u001b[0m\u001b[1;33m\u001b[0m\u001b[1;33m\u001b[0m\u001b[0m\n",
      "\u001b[1;31mNameError\u001b[0m: name 'friend' is not defined"
     ]
    }
   ],
   "source": [
    "del family[friend]\n",
    "print(friend)\n"
   ]
  },
  {
   "cell_type": "code",
   "execution_count": 68,
   "id": "555b1a08",
   "metadata": {},
   "outputs": [
    {
     "name": "stdout",
     "output_type": "stream",
     "text": [
      "{'mother': 'pratibha', 'father': 'devichand', 'brother': 'mandar', 'sister': 'diksha'}\n"
     ]
    }
   ],
   "source": [
    "print(family)"
   ]
  },
  {
   "cell_type": "code",
   "execution_count": 39,
   "id": "a01dba6a",
   "metadata": {},
   "outputs": [
    {
     "name": "stdout",
     "output_type": "stream",
     "text": [
      "{'mother': 'pratibha', 'father': 'devichand', 'brother': 'mandar'}\n"
     ]
    }
   ],
   "source": [
    "print(family)"
   ]
  },
  {
   "cell_type": "code",
   "execution_count": null,
   "id": "15407135",
   "metadata": {},
   "outputs": [],
   "source": []
  }
 ],
 "metadata": {
  "kernelspec": {
   "display_name": "Python 3 (ipykernel)",
   "language": "python",
   "name": "python3"
  },
  "language_info": {
   "codemirror_mode": {
    "name": "ipython",
    "version": 3
   },
   "file_extension": ".py",
   "mimetype": "text/x-python",
   "name": "python",
   "nbconvert_exporter": "python",
   "pygments_lexer": "ipython3",
   "version": "3.9.7"
  }
 },
 "nbformat": 4,
 "nbformat_minor": 5
}
